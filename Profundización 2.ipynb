{
 "cells": [
  {
   "cell_type": "code",
   "execution_count": 13,
   "id": "b3b35339",
   "metadata": {},
   "outputs": [],
   "source": [
    "import pandas as pd\n",
    "import seaborn as sns\n",
    "import matplotlib.pyplot as plt\n",
    "from scipy import stats\n",
    "import numpy as np"
   ]
  },
  {
   "cell_type": "markdown",
   "id": "0de0459c",
   "metadata": {},
   "source": [
    "|Northeast|Southeast|Southwest|Midwest|West|\n",
    "|---------|---------|---------|-------|----|\n",
    "|Connecticut|\tAlabama|\tArizona|Illinois|California|\n",
    "|Delaware|\tArkansas|\tColorado|Indiana|Idaho|\n",
    "|Maine|\tFlorida|\tKansas|\tIowa\t|Montana||\n",
    "|Massachusetts|\tGeorgia|\tNew Mexico|\tMichigan|Nevada|\n",
    "|Maryland|\tKentucky|\tOklahoma|\tMinnesota|Oregon|\n",
    "|New Hampshire|\tLouisiana|\tTexas|\tMissouri|Utah|\n",
    "|New Jersey|\tMississippi||Nebraska|Washington|\n",
    "|New York|\tNorth Carolina||North Dakota|\tWyoming|\n",
    "|Pennsylvania|\tSouth Carolina||Ohio||\n",
    "|Rhode Island|\tTennessee||South Dakota||\t \n",
    "|Vermont|\tVirginia||Wisconsin||\n",
    "|District of Columbia|West Virginia|||\t "
   ]
  },
  {
   "cell_type": "code",
   "execution_count": 3,
   "id": "8e07caf0",
   "metadata": {},
   "outputs": [
    {
     "data": {
      "text/html": [
       "<div>\n",
       "<style scoped>\n",
       "    .dataframe tbody tr th:only-of-type {\n",
       "        vertical-align: middle;\n",
       "    }\n",
       "\n",
       "    .dataframe tbody tr th {\n",
       "        vertical-align: top;\n",
       "    }\n",
       "\n",
       "    .dataframe thead th {\n",
       "        text-align: right;\n",
       "    }\n",
       "</style>\n",
       "<table border=\"1\" class=\"dataframe\">\n",
       "  <thead>\n",
       "    <tr style=\"text-align: right;\">\n",
       "      <th></th>\n",
       "      <th>Load: Load Number</th>\n",
       "      <th>Load: Created Date</th>\n",
       "      <th>Actual Pickup Date</th>\n",
       "      <th>Origin Zip Code</th>\n",
       "      <th>Destination Zip Code</th>\n",
       "      <th>Origin State</th>\n",
       "      <th>Destination State</th>\n",
       "      <th>Mode</th>\n",
       "      <th>Linear Feet</th>\n",
       "      <th>Total Weight</th>\n",
       "      <th>Distance (Miles)</th>\n",
       "      <th>Total HU</th>\n",
       "      <th>Revenue (Mixed) Currency</th>\n",
       "      <th>Revenue (Mixed)</th>\n",
       "      <th>Carrier Cost (Mixed) Currency</th>\n",
       "      <th>Carrier Cost (Mixed)</th>\n",
       "      <th>Target buy rate</th>\n",
       "      <th>GS Network buy rate</th>\n",
       "      <th>Region Origen</th>\n",
       "      <th>Region Destino</th>\n",
       "    </tr>\n",
       "  </thead>\n",
       "  <tbody>\n",
       "    <tr>\n",
       "      <th>0</th>\n",
       "      <td>SHP5161932</td>\n",
       "      <td>8/5/2024</td>\n",
       "      <td>8/6/2024</td>\n",
       "      <td>45786</td>\n",
       "      <td>33316</td>\n",
       "      <td>Ohio</td>\n",
       "      <td>Florida</td>\n",
       "      <td>Partial F/SD (LTL Spot Market)</td>\n",
       "      <td>20.5</td>\n",
       "      <td>1675.0</td>\n",
       "      <td>1081.85</td>\n",
       "      <td>2.0</td>\n",
       "      <td>USD</td>\n",
       "      <td>1600.0</td>\n",
       "      <td>USD</td>\n",
       "      <td>1450.0</td>\n",
       "      <td>2761.0</td>\n",
       "      <td>2732.0</td>\n",
       "      <td>Midwest</td>\n",
       "      <td>Southeast</td>\n",
       "    </tr>\n",
       "  </tbody>\n",
       "</table>\n",
       "</div>"
      ],
      "text/plain": [
       "  Load: Load Number Load: Created Date Actual Pickup Date Origin Zip Code  \\\n",
       "0        SHP5161932           8/5/2024           8/6/2024           45786   \n",
       "\n",
       "  Destination Zip Code Origin State Destination State  \\\n",
       "0                33316         Ohio           Florida   \n",
       "\n",
       "                             Mode  Linear Feet  Total Weight  \\\n",
       "0  Partial F/SD (LTL Spot Market)         20.5        1675.0   \n",
       "\n",
       "   Distance (Miles)  Total HU Revenue (Mixed) Currency  Revenue (Mixed)  \\\n",
       "0           1081.85       2.0                      USD           1600.0   \n",
       "\n",
       "  Carrier Cost (Mixed) Currency  Carrier Cost (Mixed)  Target buy rate  \\\n",
       "0                           USD                1450.0           2761.0   \n",
       "\n",
       "   GS Network buy rate Region Origen Region Destino  \n",
       "0               2732.0       Midwest      Southeast  "
      ]
     },
     "execution_count": 3,
     "metadata": {},
     "output_type": "execute_result"
    }
   ],
   "source": [
    "df = pd.read_csv('data v_1.csv') \n",
    "df = df.drop(columns = 'Unnamed: 0')\n",
    "df = df[df['Linear Feet'] >= 1]\n",
    "df = df[df['Carrier Cost (Mixed)'] >= 100]\n",
    "mapeo = {'Connecticut': 'Northeast', 'Delaware': 'Northeast', 'Maine': 'Northeast', 'Massachusetts': 'Northeast', 'Maryland': 'Northeast', \n",
    "         'New Hampshire': 'Northeast', 'New Jersey': 'Northeast', 'New York': 'Northeast', 'Pennsylvania': 'Northeast', 'Rhode Island': 'Northeast', \n",
    "         'Vermont': 'Northeast', 'District of Columbia': 'Northeast', \n",
    "         'Alabama': 'Southeast', 'Arkansas': 'Southeast', 'Florida': 'Southeast', 'Georgia': 'Southeast', \n",
    "         'Kentucky': 'Southeast', 'Louisiana': 'Southeast', 'Mississippi': 'Southeast', 'North Carolina': 'Southeast', \n",
    "         'South Carolina': 'Southeast', 'Tennessee': 'Southeast', 'Virginia': 'Southeast', 'West Virginia': 'Southeast', \n",
    "         'Arizona': 'Southwest', 'Colorado': 'Southwest', 'Kansas': 'Southwest', 'New Mexico': 'Southwest', \n",
    "         'Oklahoma': 'Southwest', 'Texas': 'Southwest', \n",
    "         'Illinois': 'Midwest', 'Indiana': 'Midwest', 'Iowa': 'Midwest', 'Michigan': 'Midwest', \n",
    "         'Minnesota': 'Midwest', 'Missouri': 'Midwest', 'Nebraska': 'Midwest', 'North Dakota': 'Midwest', \n",
    "         'Ohio': 'Midwest', 'South Dakota': 'Midwest', 'Wisconsin': 'Midwest', \n",
    "         'California': 'West', 'Idaho': 'West', 'Montana': 'West', 'Nevada': 'West',\n",
    "         'Oregon': 'West', 'Utah': 'West', 'Washington': 'West', 'Wyoming': 'West',\n",
    "         'Ontario': 'Canada', 'British Columbia': 'Canada', 'Alberta': 'Canada', 'Quebec': 'Canada', \n",
    "         'Manitoba': 'Canada', 'Saskatchewan': 'Canada', 'Nova Scotia': 'Canada', 'New Brunswick': 'Canada', \n",
    "         'Newfoundland and Labrador': 'Canada', 'Yukon': 'Canada', 'Prince Edward Island': 'Canada', 'Northwest Territories': 'Canada', \n",
    "         'Alaska': 'Offshore'}\n",
    "df['Region Origen'] = df['Origin State'].map(mapeo)\n",
    "df['Region Destino'] = df['Destination State'].map(mapeo)\n",
    "df.head(1)"
   ]
  },
  {
   "cell_type": "markdown",
   "id": "21eaec4a",
   "metadata": {},
   "source": [
    "### ANOVA"
   ]
  },
  {
   "cell_type": "markdown",
   "id": "88ad582e",
   "metadata": {},
   "source": [
    "Hay que garantizar 2 condiciones. \n",
    "* homocedasticidad: Desviación estandar igual o similar\n",
    "* Distribución normal de cada población"
   ]
  },
  {
   "cell_type": "code",
   "execution_count": 29,
   "id": "b9aee87c",
   "metadata": {},
   "outputs": [],
   "source": [
    "grupo_A = df[df['Region Origen'] == 'Northeast']['Carrier Cost (Mixed)']\n",
    "grupo_B = df[df['Region Origen'] == 'Southeast']['Carrier Cost (Mixed)']\n",
    "grupo_C = df[df['Region Origen'] == 'Southwest']['Carrier Cost (Mixed)']\n",
    "grupo_D = df[df['Region Origen'] == 'Midwest']['Carrier Cost (Mixed)']\n",
    "grupo_E = df[df['Region Origen'] == 'West']['Carrier Cost (Mixed)']\n",
    "\n",
    "grupo_Alpha = df[df['Region Destino'] == 'Northeast']['Carrier Cost (Mixed)']\n",
    "grupo_Betha = df[df['Region Destino'] == 'Southeast']['Carrier Cost (Mixed)']\n",
    "grupo_Gamma = df[df['Region Destino'] == 'Southwest']['Carrier Cost (Mixed)']\n",
    "grupo_Xi = df[df['Region Destino'] == 'Midwest']['Carrier Cost (Mixed)']\n",
    "grupo_Theta = df[df['Region Destino'] == 'West']['Carrier Cost (Mixed)']"
   ]
  },
  {
   "cell_type": "code",
   "execution_count": 40,
   "id": "0cc5908a",
   "metadata": {},
   "outputs": [],
   "source": [
    "std_devA = grupo_A.reset_index()['Carrier Cost (Mixed)'].std()\n",
    "std_devB = grupo_B.reset_index()['Carrier Cost (Mixed)'].std()\n",
    "std_devC = grupo_C.reset_index()['Carrier Cost (Mixed)'].std()\n",
    "std_devD = grupo_D.reset_index()['Carrier Cost (Mixed)'].std()\n",
    "std_devE = grupo_E.reset_index()['Carrier Cost (Mixed)'].std()\n",
    "\n",
    "data = pd.DataFrame({\n",
    "    'Region': ['Northeast', 'Southeast', 'Southwest', 'Midwest', 'West'],\n",
    "    'Desviación Estándar': [std_devA, std_devB, std_devC, std_devD, std_devE]\n",
    "})"
   ]
  },
  {
   "cell_type": "code",
   "execution_count": 41,
   "id": "0fa338cb",
   "metadata": {},
   "outputs": [
    {
     "data": {
      "image/png": "[encoded data removed]",
      "text/plain": [
       "<Figure size 432x288 with 1 Axes>"
      ]
     },
     "metadata": {
      "needs_background": "light"
     },
     "output_type": "display_data"
    }
   ],
   "source": [
    "sns.barplot(x='Region', y='Desviación Estándar', data=data, palette=['blue', 'green', 'red', 'black', 'orange'])\n",
    "plt.ylabel('Valor')\n",
    "plt.title('Comparación de la Desviación Estándar Origen')\n",
    "plt.show()"
   ]
  },
  {
   "cell_type": "code",
   "execution_count": 42,
   "id": "4e7cbf56",
   "metadata": {},
   "outputs": [],
   "source": [
    "std_devAlpha = grupo_Alpha.reset_index()['Carrier Cost (Mixed)'].std()\n",
    "std_devBetha = grupo_Betha.reset_index()['Carrier Cost (Mixed)'].std()\n",
    "std_devGamma = grupo_Gamma.reset_index()['Carrier Cost (Mixed)'].std()\n",
    "std_devXi = grupo_Xi.reset_index()['Carrier Cost (Mixed)'].std()\n",
    "std_devTheta = grupo_Theta.reset_index()['Carrier Cost (Mixed)'].std()\n",
    "\n",
    "dataD = pd.DataFrame({\n",
    "    'Region': ['Northeast', 'Southeast', 'Southwest', 'Midwest', 'West'],\n",
    "    'Desviación Estándar': [std_devAlpha, std_devBetha, std_devGamma, std_devXi, std_devTheta]\n",
    "})"
   ]
  },
  {
   "cell_type": "code",
   "execution_count": 43,
   "id": "55a4898e",
   "metadata": {},
   "outputs": [
    {
     "data": {
      "image/png": "[encoded data removed]",
      "text/plain": [
       "<Figure size 432x288 with 1 Axes>"
      ]
     },
     "metadata": {
      "needs_background": "light"
     },
     "output_type": "display_data"
    }
   ],
   "source": [
    "sns.barplot(x='Region', y='Desviación Estándar', data=dataD, palette=['blue', 'green', 'red', 'black', 'orange'])\n",
    "plt.ylabel('Valor')\n",
    "plt.title('Comparación de la Desviación Estándar Destino')\n",
    "plt.show()"
   ]
  },
  {
   "cell_type": "code",
   "execution_count": 47,
   "id": "f044a940",
   "metadata": {},
   "outputs": [
    {
     "data": {
      "text/plain": [
       "Text(0.5, 0, '')"
      ]
     },
     "execution_count": 47,
     "metadata": {},
     "output_type": "execute_result"
    },
    {
     "data": {
      "image/png": "[encoded data removed]",
      "text/plain": [
       "<Figure size 432x288 with 1 Axes>"
      ]
     },
     "metadata": {},
     "output_type": "display_data"
    }
   ],
   "source": [
    "sns.kdeplot(grupo_A.reset_index()['Carrier Cost (Mixed)'], color = \"blue\")\n",
    "sns.kdeplot(grupo_B.reset_index()['Carrier Cost (Mixed)'], color = \"green\")\n",
    "sns.kdeplot(grupo_C.reset_index()['Carrier Cost (Mixed)'], color = \"red\")\n",
    "sns.kdeplot(grupo_D.reset_index()['Carrier Cost (Mixed)'], color = \"black\")\n",
    "sns.kdeplot(grupo_E.reset_index()['Carrier Cost (Mixed)'], color = \"orange\")\n",
    "sns.despine(top=True, right=True, left=True)\n",
    "plt.xticks([])\n",
    "plt.yticks([])\n",
    "plt.title('Región de Origen')\n",
    "plt.ylabel(\"\")\n",
    "plt.xlabel(\"\")"
   ]
  },
  {
   "cell_type": "code",
   "execution_count": 48,
   "id": "c5ef7c87",
   "metadata": {},
   "outputs": [
    {
     "data": {
      "text/plain": [
       "Text(0.5, 0, '')"
      ]
     },
     "execution_count": 48,
     "metadata": {},
     "output_type": "execute_result"
    },
    {
     "data": {
      "image/png": "[encoded data removed]",
      "text/plain": [
       "<Figure size 432x288 with 1 Axes>"
      ]
     },
     "metadata": {},
     "output_type": "display_data"
    }
   ],
   "source": [
    "sns.kdeplot(grupo_Alpha.reset_index()['Carrier Cost (Mixed)'], color = \"blue\")\n",
    "sns.kdeplot(grupo_Betha.reset_index()['Carrier Cost (Mixed)'], color = \"green\")\n",
    "sns.kdeplot(grupo_Gamma.reset_index()['Carrier Cost (Mixed)'], color = \"red\")\n",
    "sns.kdeplot(grupo_Xi.reset_index()['Carrier Cost (Mixed)'], color = \"black\")\n",
    "sns.kdeplot(grupo_Theta.reset_index()['Carrier Cost (Mixed)'], color = \"orange\")\n",
    "sns.despine(top=True, right=True, left=True)\n",
    "plt.xticks([])\n",
    "plt.yticks([])\n",
    "plt.title('Región de Destino')\n",
    "plt.ylabel(\"\")\n",
    "plt.xlabel(\"\")"
   ]
  },
  {
   "cell_type": "code",
   "execution_count": 49,
   "id": "406b6c14",
   "metadata": {},
   "outputs": [
    {
     "name": "stdout",
     "output_type": "stream",
     "text": [
      "ANOVA para Region Origen: F=47.75, p-value=0.0000\n",
      "ANOVA para Region Destino: F=10.36, p-value=0.0000\n"
     ]
    }
   ],
   "source": [
    "f_metodo, p_metodo = stats.f_oneway(grupo_A, grupo_B, grupo_C, grupo_D, grupo_E)\n",
    "print(f'ANOVA para Region Origen: F={f_metodo:.2f}, p-value={p_metodo:.4f}')\n",
    "\n",
    "f_departamento, p_departamento = stats.f_oneway(grupo_Alpha, grupo_Betha, grupo_Gamma, grupo_Xi, grupo_Theta)\n",
    "print(f'ANOVA para Region Destino: F={f_departamento:.2f}, p-value={p_departamento:.4f}')"
   ]
  },
  {
   "cell_type": "markdown",
   "id": "a8fb7228",
   "metadata": {},
   "source": [
    "Referencia: https://docs.scipy.org/doc/scipy/reference/generated/scipy.stats.f_oneway.html\n",
    "* F = Relación entre la variabilidad explicada por el factor y la variabilidad no explicada. Valores más altos de F indican una mayor relación.\n",
    "* p_valor = Un p-valor bajo (generalmente < 0.05) sugiere que hay diferencias significativas entre los grupos, lo que implica que la variable categórica tiene un efecto significativo en la variable numérica."
   ]
  },
  {
   "cell_type": "markdown",
   "id": "60aa1998",
   "metadata": {},
   "source": [
    "### Eta cuadrado"
   ]
  },
  {
   "cell_type": "code",
   "execution_count": 14,
   "id": "44900fa1",
   "metadata": {},
   "outputs": [
    {
     "name": "stdout",
     "output_type": "stream",
     "text": [
      "Eta para Region Origen: 0.33\n",
      "Eta para Region Destino: 0.16\n"
     ]
    }
   ],
   "source": [
    "# Suma de Cuadrados Total (SST)\n",
    "sst = np.sum((df['Carrier Cost (Mixed)'] - np.mean(df['Carrier Cost (Mixed)']))**2)\n",
    "\n",
    "# Suma de Cuadrados entre Grupos (SSB) para 'Region Origen'\n",
    "ssb_RO = np.sum([len(grupo) * (np.mean(grupo) - np.mean(df['Carrier Cost (Mixed)']))**2 for grupo in [grupo_A, grupo_B, grupo_C, grupo_D, grupo_E]])\n",
    "\n",
    "# Suma de Cuadrados entre Grupos (SSB) para 'Region Destino'\n",
    "ssb_RD = np.sum([len(grupo) * (np.mean(grupo) - np.mean(df['Carrier Cost (Mixed)']))**2 for grupo in [grupo_Alpha, grupo_Betha, grupo_Gamma, grupo_Xi, grupo_Theta]])\n",
    "\n",
    "# Coeficiente Eta para 'Region Origen'\n",
    "eta_RO = np.sqrt(ssb_RO / sst)\n",
    "print(f'Eta para Region Origen: {eta_RO:.2f}')\n",
    "\n",
    "# Coeficiente Eta para 'Region Destino'\n",
    "eta_RD = np.sqrt(ssb_RD / sst)\n",
    "print(f'Eta para Region Destino: {eta_RD:.2f}')"
   ]
  },
  {
   "cell_type": "code",
   "execution_count": 50,
   "id": "4bfb9f15",
   "metadata": {},
   "outputs": [],
   "source": [
    "#Faltaria verlo por estado"
   ]
  },
  {
   "cell_type": "code",
   "execution_count": null,
   "id": "654dfe99",
   "metadata": {},
   "outputs": [],
   "source": []
  }
 ],
 "metadata": {
  "kernelspec": {
   "display_name": "Python 3",
   "language": "python",
   "name": "python3"
  },
  "language_info": {
   "codemirror_mode": {
    "name": "ipython",
    "version": 3
   },
   "file_extension": ".py",
   "mimetype": "text/x-python",
   "name": "python",
   "nbconvert_exporter": "python",
   "pygments_lexer": "ipython3",
   "version": "3.9.4"
  }
 },
 "nbformat": 4,
 "nbformat_minor": 5
}
